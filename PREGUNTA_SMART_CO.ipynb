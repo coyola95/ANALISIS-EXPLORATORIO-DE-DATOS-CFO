{
 "cells": [
  {
   "cell_type": "code",
   "execution_count": null,
   "metadata": {},
   "outputs": [],
   "source": [
    "\n",
    "#PROBLEMÁTICA:  Actualmente la cartera de la organización representa una gran cantidad de ingresos retenidos y requiere fortalecer sus estrategias de cobro para reducir la misma. La empresa actualmente realiza scoring de sus clientes con base en su histórico de cartera.\n",
    "\n",
    "#SOLUCIÓN: La problemática puede ser atacada desde la ciencia de datos al utilizar el histórico de PQR`s de reclamación y la cantidad de facturas vencidas de un cliente por cada ciclo de facturación para predecir el comportamiento de cartera los mismos.\n",
    "\n",
    "\n",
    "#PREGUNTA SMART: \"¿Cómo se puede utilizar histórico de cantidad de facturas vencidas de un cliente para predecir con un 85% de precisión el número de clientes que incrementarán su deuda en los próximos tres meses, permitiendo así implementar estrategias preventivas antes del final del próximo trimestre?\"\n",
    "\n",
    "#DESGLOSE COMPONENTES PREGUNTA\n",
    "\n",
    "#Específica: Se enfoca en predecir el número de clientes que incrementarán su cartera.\n",
    "#Medible: La precisión deseada es del 85%.\n",
    "#Accionable: Se basa en el scoring actual de la empresa.\n",
    "#Relevancia: Permite implementar estrategias preventivas, cruciales para la gestión de riesgos.\n",
    "#Temporalidad: El objetivo es lograr esta predicción antes del final del próximo trimestre.\n",
    "#Tipo de análisis: predictivo\n",
    "\n"
   ]
  },
  {
   "cell_type": "code",
   "execution_count": 68,
   "metadata": {},
   "outputs": [
    {
     "data": {
      "text/html": [
       "<div>\n",
       "<style scoped>\n",
       "    .dataframe tbody tr th:only-of-type {\n",
       "        vertical-align: middle;\n",
       "    }\n",
       "\n",
       "    .dataframe tbody tr th {\n",
       "        vertical-align: top;\n",
       "    }\n",
       "\n",
       "    .dataframe thead th {\n",
       "        text-align: right;\n",
       "    }\n",
       "</style>\n",
       "<table border=\"1\" class=\"dataframe\">\n",
       "  <thead>\n",
       "    <tr style=\"text-align: right;\">\n",
       "      <th></th>\n",
       "      <th>CICLO</th>\n",
       "      <th>TOTAL_FACTURAS_VENCIDAS</th>\n",
       "      <th>TOTAL_IDS_CICLO</th>\n",
       "      <th>TOTAL_PQR_RECLAMACION</th>\n",
       "    </tr>\n",
       "  </thead>\n",
       "  <tbody>\n",
       "    <tr>\n",
       "      <th>0</th>\n",
       "      <td>202306</td>\n",
       "      <td>20795</td>\n",
       "      <td>34031</td>\n",
       "      <td>1669</td>\n",
       "    </tr>\n",
       "    <tr>\n",
       "      <th>1</th>\n",
       "      <td>202310</td>\n",
       "      <td>22283</td>\n",
       "      <td>34224</td>\n",
       "      <td>1812</td>\n",
       "    </tr>\n",
       "    <tr>\n",
       "      <th>2</th>\n",
       "      <td>202309</td>\n",
       "      <td>21907</td>\n",
       "      <td>34209</td>\n",
       "      <td>1690</td>\n",
       "    </tr>\n",
       "    <tr>\n",
       "      <th>3</th>\n",
       "      <td>202403</td>\n",
       "      <td>21384</td>\n",
       "      <td>34099</td>\n",
       "      <td>1897</td>\n",
       "    </tr>\n",
       "    <tr>\n",
       "      <th>4</th>\n",
       "      <td>202402</td>\n",
       "      <td>22706</td>\n",
       "      <td>34133</td>\n",
       "      <td>1416</td>\n",
       "    </tr>\n",
       "    <tr>\n",
       "      <th>5</th>\n",
       "      <td>202307</td>\n",
       "      <td>20410</td>\n",
       "      <td>34072</td>\n",
       "      <td>1334</td>\n",
       "    </tr>\n",
       "    <tr>\n",
       "      <th>6</th>\n",
       "      <td>202311</td>\n",
       "      <td>21140</td>\n",
       "      <td>34176</td>\n",
       "      <td>1230</td>\n",
       "    </tr>\n",
       "    <tr>\n",
       "      <th>7</th>\n",
       "      <td>202312</td>\n",
       "      <td>21531</td>\n",
       "      <td>34157</td>\n",
       "      <td>1541</td>\n",
       "    </tr>\n",
       "    <tr>\n",
       "      <th>8</th>\n",
       "      <td>202308</td>\n",
       "      <td>21447</td>\n",
       "      <td>34177</td>\n",
       "      <td>1732</td>\n",
       "    </tr>\n",
       "    <tr>\n",
       "      <th>9</th>\n",
       "      <td>202401</td>\n",
       "      <td>21930</td>\n",
       "      <td>34169</td>\n",
       "      <td>1319</td>\n",
       "    </tr>\n",
       "    <tr>\n",
       "      <th>10</th>\n",
       "      <td>202404</td>\n",
       "      <td>47103</td>\n",
       "      <td>109106</td>\n",
       "      <td>1153</td>\n",
       "    </tr>\n",
       "    <tr>\n",
       "      <th>11</th>\n",
       "      <td>202405</td>\n",
       "      <td>22058</td>\n",
       "      <td>34094</td>\n",
       "      <td>1141</td>\n",
       "    </tr>\n",
       "    <tr>\n",
       "      <th>12</th>\n",
       "      <td>202406</td>\n",
       "      <td>21400</td>\n",
       "      <td>45431</td>\n",
       "      <td>1114</td>\n",
       "    </tr>\n",
       "  </tbody>\n",
       "</table>\n",
       "</div>"
      ],
      "text/plain": [
       "     CICLO  TOTAL_FACTURAS_VENCIDAS  TOTAL_IDS_CICLO  TOTAL_PQR_RECLAMACION\n",
       "0   202306                    20795            34031                   1669\n",
       "1   202310                    22283            34224                   1812\n",
       "2   202309                    21907            34209                   1690\n",
       "3   202403                    21384            34099                   1897\n",
       "4   202402                    22706            34133                   1416\n",
       "5   202307                    20410            34072                   1334\n",
       "6   202311                    21140            34176                   1230\n",
       "7   202312                    21531            34157                   1541\n",
       "8   202308                    21447            34177                   1732\n",
       "9   202401                    21930            34169                   1319\n",
       "10  202404                    47103           109106                   1153\n",
       "11  202405                    22058            34094                   1141\n",
       "12  202406                    21400            45431                   1114"
      ]
     },
     "execution_count": 68,
     "metadata": {},
     "output_type": "execute_result"
    }
   ],
   "source": [
    "# Importar librería pandas\n",
    "import pandas as pd\n",
    "import matplotlib.pylab as plt\n",
    "\n",
    "# URL del dataset\n",
    "filename = \"/Users/christianoyola/Documents/GENERAL/Christian/UNIVERSIDAD/MAESTRIA/SEMESTRE 1/ANALISIS EXPLORATORIO DE DATOS/ANALISIS-EXPLORATORIO-DE-DATOS-CFO/BASE ANALISIS BIVARIADO.xlsx\"\n",
    "\n",
    "\n",
    "# Leer el archivo CSV\n",
    "df = pd.read_excel(filename, engine='openpyxl')\n",
    "\n",
    "df\n",
    "\n"
   ]
  },
  {
   "cell_type": "code",
   "execution_count": 26,
   "metadata": {},
   "outputs": [
    {
     "data": {
      "text/html": [
       "<div>\n",
       "<style scoped>\n",
       "    .dataframe tbody tr th:only-of-type {\n",
       "        vertical-align: middle;\n",
       "    }\n",
       "\n",
       "    .dataframe tbody tr th {\n",
       "        vertical-align: top;\n",
       "    }\n",
       "\n",
       "    .dataframe thead th {\n",
       "        text-align: right;\n",
       "    }\n",
       "</style>\n",
       "<table border=\"1\" class=\"dataframe\">\n",
       "  <thead>\n",
       "    <tr style=\"text-align: right;\">\n",
       "      <th></th>\n",
       "      <th>CICLO</th>\n",
       "      <th>TOTAL_FACTURAS_VENCIDAS</th>\n",
       "      <th>TOTAL_IDS_CICLO</th>\n",
       "      <th>TOTAL_PQR_RECLAMACION</th>\n",
       "    </tr>\n",
       "  </thead>\n",
       "  <tbody>\n",
       "    <tr>\n",
       "      <th>0</th>\n",
       "      <td>202306</td>\n",
       "      <td>20795</td>\n",
       "      <td>34031</td>\n",
       "      <td>1669</td>\n",
       "    </tr>\n",
       "    <tr>\n",
       "      <th>1</th>\n",
       "      <td>202310</td>\n",
       "      <td>22283</td>\n",
       "      <td>34224</td>\n",
       "      <td>1812</td>\n",
       "    </tr>\n",
       "    <tr>\n",
       "      <th>2</th>\n",
       "      <td>202309</td>\n",
       "      <td>21907</td>\n",
       "      <td>34209</td>\n",
       "      <td>1690</td>\n",
       "    </tr>\n",
       "    <tr>\n",
       "      <th>3</th>\n",
       "      <td>202403</td>\n",
       "      <td>21384</td>\n",
       "      <td>34099</td>\n",
       "      <td>1897</td>\n",
       "    </tr>\n",
       "    <tr>\n",
       "      <th>4</th>\n",
       "      <td>202402</td>\n",
       "      <td>22706</td>\n",
       "      <td>34133</td>\n",
       "      <td>1416</td>\n",
       "    </tr>\n",
       "  </tbody>\n",
       "</table>\n",
       "</div>"
      ],
      "text/plain": [
       "    CICLO  TOTAL_FACTURAS_VENCIDAS  TOTAL_IDS_CICLO  TOTAL_PQR_RECLAMACION\n",
       "0  202306                    20795            34031                   1669\n",
       "1  202310                    22283            34224                   1812\n",
       "2  202309                    21907            34209                   1690\n",
       "3  202403                    21384            34099                   1897\n",
       "4  202402                    22706            34133                   1416"
      ]
     },
     "execution_count": 26,
     "metadata": {},
     "output_type": "execute_result"
    }
   ],
   "source": [
    "# Para ver cómo luce el dataset, utilizamos el método head().\n",
    "df.head(5)\n",
    "\n"
   ]
  },
  {
   "cell_type": "code",
   "execution_count": null,
   "metadata": {},
   "outputs": [],
   "source": [
    "# VARIABLE SELECCIONADA: FACTURAS_VENCIDAS\n",
    "# IMPORTANCIA: Permite conocer el comportamiento de cartera en un intervalo de tiempo."
   ]
  },
  {
   "cell_type": "code",
   "execution_count": 28,
   "metadata": {},
   "outputs": [
    {
     "data": {
      "text/plain": [
       "(13, 4)"
      ]
     },
     "execution_count": 28,
     "metadata": {},
     "output_type": "execute_result"
    }
   ],
   "source": [
    "#Obtener el tamaño del dataset.\n",
    "df.shape"
   ]
  },
  {
   "cell_type": "code",
   "execution_count": 30,
   "metadata": {},
   "outputs": [
    {
     "data": {
      "text/html": [
       "<div>\n",
       "<style scoped>\n",
       "    .dataframe tbody tr th:only-of-type {\n",
       "        vertical-align: middle;\n",
       "    }\n",
       "\n",
       "    .dataframe tbody tr th {\n",
       "        vertical-align: top;\n",
       "    }\n",
       "\n",
       "    .dataframe thead th {\n",
       "        text-align: right;\n",
       "    }\n",
       "</style>\n",
       "<table border=\"1\" class=\"dataframe\">\n",
       "  <thead>\n",
       "    <tr style=\"text-align: right;\">\n",
       "      <th></th>\n",
       "      <th>CICLO</th>\n",
       "      <th>TOTAL_FACTURAS_VENCIDAS</th>\n",
       "      <th>TOTAL_IDS_CICLO</th>\n",
       "      <th>TOTAL_PQR_RECLAMACION</th>\n",
       "    </tr>\n",
       "  </thead>\n",
       "  <tbody>\n",
       "    <tr>\n",
       "      <th>8</th>\n",
       "      <td>202308</td>\n",
       "      <td>21447</td>\n",
       "      <td>34177</td>\n",
       "      <td>1732</td>\n",
       "    </tr>\n",
       "    <tr>\n",
       "      <th>9</th>\n",
       "      <td>202401</td>\n",
       "      <td>21930</td>\n",
       "      <td>34169</td>\n",
       "      <td>1319</td>\n",
       "    </tr>\n",
       "    <tr>\n",
       "      <th>10</th>\n",
       "      <td>202404</td>\n",
       "      <td>47103</td>\n",
       "      <td>109106</td>\n",
       "      <td>1153</td>\n",
       "    </tr>\n",
       "    <tr>\n",
       "      <th>11</th>\n",
       "      <td>202405</td>\n",
       "      <td>22058</td>\n",
       "      <td>34094</td>\n",
       "      <td>1141</td>\n",
       "    </tr>\n",
       "    <tr>\n",
       "      <th>12</th>\n",
       "      <td>202406</td>\n",
       "      <td>21400</td>\n",
       "      <td>45431</td>\n",
       "      <td>1114</td>\n",
       "    </tr>\n",
       "  </tbody>\n",
       "</table>\n",
       "</div>"
      ],
      "text/plain": [
       "     CICLO  TOTAL_FACTURAS_VENCIDAS  TOTAL_IDS_CICLO  TOTAL_PQR_RECLAMACION\n",
       "8   202308                    21447            34177                   1732\n",
       "9   202401                    21930            34169                   1319\n",
       "10  202404                    47103           109106                   1153\n",
       "11  202405                    22058            34094                   1141\n",
       "12  202406                    21400            45431                   1114"
      ]
     },
     "execution_count": 30,
     "metadata": {},
     "output_type": "execute_result"
    }
   ],
   "source": [
    "# Para ver cómo luce el dataset, utilizamos el método tail().\n",
    "df.tail(5)"
   ]
  },
  {
   "cell_type": "code",
   "execution_count": 32,
   "metadata": {},
   "outputs": [
    {
     "data": {
      "text/html": [
       "<div>\n",
       "<style scoped>\n",
       "    .dataframe tbody tr th:only-of-type {\n",
       "        vertical-align: middle;\n",
       "    }\n",
       "\n",
       "    .dataframe tbody tr th {\n",
       "        vertical-align: top;\n",
       "    }\n",
       "\n",
       "    .dataframe thead th {\n",
       "        text-align: right;\n",
       "    }\n",
       "</style>\n",
       "<table border=\"1\" class=\"dataframe\">\n",
       "  <thead>\n",
       "    <tr style=\"text-align: right;\">\n",
       "      <th></th>\n",
       "      <th>CICLO</th>\n",
       "      <th>TOTAL_FACTURAS_VENCIDAS</th>\n",
       "      <th>TOTAL_IDS_CICLO</th>\n",
       "      <th>TOTAL_PQR_RECLAMACION</th>\n",
       "    </tr>\n",
       "  </thead>\n",
       "  <tbody>\n",
       "    <tr>\n",
       "      <th>count</th>\n",
       "      <td>13.000000</td>\n",
       "      <td>13.000000</td>\n",
       "      <td>13.000000</td>\n",
       "      <td>13.000000</td>\n",
       "    </tr>\n",
       "    <tr>\n",
       "      <th>mean</th>\n",
       "      <td>202352.615385</td>\n",
       "      <td>23545.692308</td>\n",
       "      <td>40775.230769</td>\n",
       "      <td>1465.230769</td>\n",
       "    </tr>\n",
       "    <tr>\n",
       "      <th>std</th>\n",
       "      <td>49.072291</td>\n",
       "      <td>7104.469584</td>\n",
       "      <td>20766.724313</td>\n",
       "      <td>273.551078</td>\n",
       "    </tr>\n",
       "    <tr>\n",
       "      <th>min</th>\n",
       "      <td>202306.000000</td>\n",
       "      <td>20410.000000</td>\n",
       "      <td>34031.000000</td>\n",
       "      <td>1114.000000</td>\n",
       "    </tr>\n",
       "    <tr>\n",
       "      <th>25%</th>\n",
       "      <td>202309.000000</td>\n",
       "      <td>21384.000000</td>\n",
       "      <td>34099.000000</td>\n",
       "      <td>1230.000000</td>\n",
       "    </tr>\n",
       "    <tr>\n",
       "      <th>50%</th>\n",
       "      <td>202312.000000</td>\n",
       "      <td>21531.000000</td>\n",
       "      <td>34169.000000</td>\n",
       "      <td>1416.000000</td>\n",
       "    </tr>\n",
       "    <tr>\n",
       "      <th>75%</th>\n",
       "      <td>202403.000000</td>\n",
       "      <td>22058.000000</td>\n",
       "      <td>34209.000000</td>\n",
       "      <td>1690.000000</td>\n",
       "    </tr>\n",
       "    <tr>\n",
       "      <th>max</th>\n",
       "      <td>202406.000000</td>\n",
       "      <td>47103.000000</td>\n",
       "      <td>109106.000000</td>\n",
       "      <td>1897.000000</td>\n",
       "    </tr>\n",
       "  </tbody>\n",
       "</table>\n",
       "</div>"
      ],
      "text/plain": [
       "               CICLO  TOTAL_FACTURAS_VENCIDAS  TOTAL_IDS_CICLO  \\\n",
       "count      13.000000                13.000000        13.000000   \n",
       "mean   202352.615385             23545.692308     40775.230769   \n",
       "std        49.072291              7104.469584     20766.724313   \n",
       "min    202306.000000             20410.000000     34031.000000   \n",
       "25%    202309.000000             21384.000000     34099.000000   \n",
       "50%    202312.000000             21531.000000     34169.000000   \n",
       "75%    202403.000000             22058.000000     34209.000000   \n",
       "max    202406.000000             47103.000000    109106.000000   \n",
       "\n",
       "       TOTAL_PQR_RECLAMACION  \n",
       "count              13.000000  \n",
       "mean             1465.230769  \n",
       "std               273.551078  \n",
       "min              1114.000000  \n",
       "25%              1230.000000  \n",
       "50%              1416.000000  \n",
       "75%              1690.000000  \n",
       "max              1897.000000  "
      ]
     },
     "execution_count": 32,
     "metadata": {},
     "output_type": "execute_result"
    }
   ],
   "source": [
    "# Para ver una descripcion general utilizamos el método df.describe().\n",
    "df.describe()"
   ]
  },
  {
   "cell_type": "code",
   "execution_count": 38,
   "metadata": {},
   "outputs": [
    {
     "data": {
      "image/png": "[encoded data removed]",
      "text/plain": [
       "<Figure size 1000x1000 with 1 Axes>"
      ]
     },
     "metadata": {},
     "output_type": "display_data"
    }
   ],
   "source": [
    "# Crear el diagrama de caja y bigotes\n",
    "plt.figure(figsize=(10, 10))\n",
    "plt.boxplot(df.TOTAL_FACTURAS_VENCIDAS)\n",
    "\n",
    "# Añadir etiquetas y título\n",
    "plt.title('Diagrama de Caja y Bigotes')\n",
    "plt.xlabel('TOTAL_FACTURAS_VENCIDAS')\n",
    "plt.ylabel('VLRS')\n",
    "\n",
    "# Mostrar el diagrama\n",
    "plt.show()"
   ]
  },
  {
   "cell_type": "code",
   "execution_count": 40,
   "metadata": {},
   "outputs": [
    {
     "data": {
      "text/plain": [
       "<Axes: ylabel='Frequency'>"
      ]
     },
     "execution_count": 40,
     "metadata": {},
     "output_type": "execute_result"
    },
    {
     "data": {
      "image/png": "[encoded data removed]",
      "text/plain": [
       "<Figure size 640x480 with 1 Axes>"
      ]
     },
     "metadata": {},
     "output_type": "display_data"
    }
   ],
   "source": [
    "# HISTOGRAMA\n",
    "df.TOTAL_FACTURAS_VENCIDAS.plot.hist()\n",
    "\n",
    "#Conclusión:: hay presencia de un dato atípico en el ciclo 202404 en donde se ve influido por la cantidad de facturas anuladas para ese ciclo. Se debe ajustar consulta para extraer la información.\n"
   ]
  },
  {
   "cell_type": "code",
   "execution_count": 42,
   "metadata": {},
   "outputs": [
    {
     "data": {
      "text/plain": [
       "TOTAL_FACTURAS_VENCIDAS\n",
       "20795    1\n",
       "22283    1\n",
       "21907    1\n",
       "21384    1\n",
       "22706    1\n",
       "20410    1\n",
       "21140    1\n",
       "21531    1\n",
       "21447    1\n",
       "21930    1\n",
       "47103    1\n",
       "22058    1\n",
       "21400    1\n",
       "Name: count, dtype: int64"
      ]
     },
     "execution_count": 42,
     "metadata": {},
     "output_type": "execute_result"
    }
   ],
   "source": [
    "#Frecuencia de valores\n",
    "\n",
    "df.TOTAL_FACTURAS_VENCIDAS.value_counts()"
   ]
  },
  {
   "cell_type": "code",
   "execution_count": 44,
   "metadata": {},
   "outputs": [
    {
     "data": {
      "text/plain": [
       "CICLO                      int64\n",
       "TOTAL_FACTURAS_VENCIDAS    int64\n",
       "TOTAL_IDS_CICLO            int64\n",
       "TOTAL_PQR_RECLAMACION      int64\n",
       "dtype: object"
      ]
     },
     "execution_count": 44,
     "metadata": {},
     "output_type": "execute_result"
    }
   ],
   "source": [
    "#Tipos de datos\n",
    "\n",
    "df.dtypes"
   ]
  },
  {
   "cell_type": "code",
   "execution_count": 46,
   "metadata": {},
   "outputs": [
    {
     "data": {
      "text/html": [
       "<div>\n",
       "<style scoped>\n",
       "    .dataframe tbody tr th:only-of-type {\n",
       "        vertical-align: middle;\n",
       "    }\n",
       "\n",
       "    .dataframe tbody tr th {\n",
       "        vertical-align: top;\n",
       "    }\n",
       "\n",
       "    .dataframe thead th {\n",
       "        text-align: right;\n",
       "    }\n",
       "</style>\n",
       "<table border=\"1\" class=\"dataframe\">\n",
       "  <thead>\n",
       "    <tr style=\"text-align: right;\">\n",
       "      <th></th>\n",
       "      <th>CICLO</th>\n",
       "      <th>TOTAL_FACTURAS_VENCIDAS</th>\n",
       "      <th>TOTAL_IDS_CICLO</th>\n",
       "      <th>TOTAL_PQR_RECLAMACION</th>\n",
       "    </tr>\n",
       "  </thead>\n",
       "  <tbody>\n",
       "    <tr>\n",
       "      <th>10</th>\n",
       "      <td>202404</td>\n",
       "      <td>47103</td>\n",
       "      <td>109106</td>\n",
       "      <td>1153</td>\n",
       "    </tr>\n",
       "    <tr>\n",
       "      <th>4</th>\n",
       "      <td>202402</td>\n",
       "      <td>22706</td>\n",
       "      <td>34133</td>\n",
       "      <td>1416</td>\n",
       "    </tr>\n",
       "    <tr>\n",
       "      <th>1</th>\n",
       "      <td>202310</td>\n",
       "      <td>22283</td>\n",
       "      <td>34224</td>\n",
       "      <td>1812</td>\n",
       "    </tr>\n",
       "    <tr>\n",
       "      <th>11</th>\n",
       "      <td>202405</td>\n",
       "      <td>22058</td>\n",
       "      <td>34094</td>\n",
       "      <td>1141</td>\n",
       "    </tr>\n",
       "    <tr>\n",
       "      <th>9</th>\n",
       "      <td>202401</td>\n",
       "      <td>21930</td>\n",
       "      <td>34169</td>\n",
       "      <td>1319</td>\n",
       "    </tr>\n",
       "    <tr>\n",
       "      <th>2</th>\n",
       "      <td>202309</td>\n",
       "      <td>21907</td>\n",
       "      <td>34209</td>\n",
       "      <td>1690</td>\n",
       "    </tr>\n",
       "    <tr>\n",
       "      <th>7</th>\n",
       "      <td>202312</td>\n",
       "      <td>21531</td>\n",
       "      <td>34157</td>\n",
       "      <td>1541</td>\n",
       "    </tr>\n",
       "    <tr>\n",
       "      <th>8</th>\n",
       "      <td>202308</td>\n",
       "      <td>21447</td>\n",
       "      <td>34177</td>\n",
       "      <td>1732</td>\n",
       "    </tr>\n",
       "    <tr>\n",
       "      <th>12</th>\n",
       "      <td>202406</td>\n",
       "      <td>21400</td>\n",
       "      <td>45431</td>\n",
       "      <td>1114</td>\n",
       "    </tr>\n",
       "    <tr>\n",
       "      <th>3</th>\n",
       "      <td>202403</td>\n",
       "      <td>21384</td>\n",
       "      <td>34099</td>\n",
       "      <td>1897</td>\n",
       "    </tr>\n",
       "  </tbody>\n",
       "</table>\n",
       "</div>"
      ],
      "text/plain": [
       "     CICLO  TOTAL_FACTURAS_VENCIDAS  TOTAL_IDS_CICLO  TOTAL_PQR_RECLAMACION\n",
       "10  202404                    47103           109106                   1153\n",
       "4   202402                    22706            34133                   1416\n",
       "1   202310                    22283            34224                   1812\n",
       "11  202405                    22058            34094                   1141\n",
       "9   202401                    21930            34169                   1319\n",
       "2   202309                    21907            34209                   1690\n",
       "7   202312                    21531            34157                   1541\n",
       "8   202308                    21447            34177                   1732\n",
       "12  202406                    21400            45431                   1114\n",
       "3   202403                    21384            34099                   1897"
      ]
     },
     "execution_count": 46,
     "metadata": {},
     "output_type": "execute_result"
    }
   ],
   "source": [
    "#Top 10 valores mas grandes de la variable TOTAL_FACTURAS_VENCIDAS\n",
    "\n",
    "df.nlargest(10,'TOTAL_FACTURAS_VENCIDAS')\n"
   ]
  },
  {
   "cell_type": "code",
   "execution_count": 48,
   "metadata": {},
   "outputs": [
    {
     "data": {
      "text/html": [
       "<div>\n",
       "<style scoped>\n",
       "    .dataframe tbody tr th:only-of-type {\n",
       "        vertical-align: middle;\n",
       "    }\n",
       "\n",
       "    .dataframe tbody tr th {\n",
       "        vertical-align: top;\n",
       "    }\n",
       "\n",
       "    .dataframe thead th {\n",
       "        text-align: right;\n",
       "    }\n",
       "</style>\n",
       "<table border=\"1\" class=\"dataframe\">\n",
       "  <thead>\n",
       "    <tr style=\"text-align: right;\">\n",
       "      <th></th>\n",
       "      <th>CICLO</th>\n",
       "      <th>TOTAL_FACTURAS_VENCIDAS</th>\n",
       "      <th>TOTAL_IDS_CICLO</th>\n",
       "      <th>TOTAL_PQR_RECLAMACION</th>\n",
       "    </tr>\n",
       "  </thead>\n",
       "  <tbody>\n",
       "    <tr>\n",
       "      <th>5</th>\n",
       "      <td>202307</td>\n",
       "      <td>20410</td>\n",
       "      <td>34072</td>\n",
       "      <td>1334</td>\n",
       "    </tr>\n",
       "    <tr>\n",
       "      <th>0</th>\n",
       "      <td>202306</td>\n",
       "      <td>20795</td>\n",
       "      <td>34031</td>\n",
       "      <td>1669</td>\n",
       "    </tr>\n",
       "    <tr>\n",
       "      <th>6</th>\n",
       "      <td>202311</td>\n",
       "      <td>21140</td>\n",
       "      <td>34176</td>\n",
       "      <td>1230</td>\n",
       "    </tr>\n",
       "    <tr>\n",
       "      <th>3</th>\n",
       "      <td>202403</td>\n",
       "      <td>21384</td>\n",
       "      <td>34099</td>\n",
       "      <td>1897</td>\n",
       "    </tr>\n",
       "    <tr>\n",
       "      <th>12</th>\n",
       "      <td>202406</td>\n",
       "      <td>21400</td>\n",
       "      <td>45431</td>\n",
       "      <td>1114</td>\n",
       "    </tr>\n",
       "    <tr>\n",
       "      <th>8</th>\n",
       "      <td>202308</td>\n",
       "      <td>21447</td>\n",
       "      <td>34177</td>\n",
       "      <td>1732</td>\n",
       "    </tr>\n",
       "    <tr>\n",
       "      <th>7</th>\n",
       "      <td>202312</td>\n",
       "      <td>21531</td>\n",
       "      <td>34157</td>\n",
       "      <td>1541</td>\n",
       "    </tr>\n",
       "    <tr>\n",
       "      <th>2</th>\n",
       "      <td>202309</td>\n",
       "      <td>21907</td>\n",
       "      <td>34209</td>\n",
       "      <td>1690</td>\n",
       "    </tr>\n",
       "    <tr>\n",
       "      <th>9</th>\n",
       "      <td>202401</td>\n",
       "      <td>21930</td>\n",
       "      <td>34169</td>\n",
       "      <td>1319</td>\n",
       "    </tr>\n",
       "    <tr>\n",
       "      <th>11</th>\n",
       "      <td>202405</td>\n",
       "      <td>22058</td>\n",
       "      <td>34094</td>\n",
       "      <td>1141</td>\n",
       "    </tr>\n",
       "  </tbody>\n",
       "</table>\n",
       "</div>"
      ],
      "text/plain": [
       "     CICLO  TOTAL_FACTURAS_VENCIDAS  TOTAL_IDS_CICLO  TOTAL_PQR_RECLAMACION\n",
       "5   202307                    20410            34072                   1334\n",
       "0   202306                    20795            34031                   1669\n",
       "6   202311                    21140            34176                   1230\n",
       "3   202403                    21384            34099                   1897\n",
       "12  202406                    21400            45431                   1114\n",
       "8   202308                    21447            34177                   1732\n",
       "7   202312                    21531            34157                   1541\n",
       "2   202309                    21907            34209                   1690\n",
       "9   202401                    21930            34169                   1319\n",
       "11  202405                    22058            34094                   1141"
      ]
     },
     "execution_count": 48,
     "metadata": {},
     "output_type": "execute_result"
    }
   ],
   "source": [
    "#Top 10 valores mas pequeños de la variable TOTAL_FACTURAS_VENCIDAS\n",
    "\n",
    "df.nsmallest(10,'TOTAL_FACTURAS_VENCIDAS')"
   ]
  },
  {
   "cell_type": "code",
   "execution_count": 50,
   "metadata": {},
   "outputs": [
    {
     "data": {
      "text/plain": [
       "CICLO                      0\n",
       "TOTAL_FACTURAS_VENCIDAS    0\n",
       "TOTAL_IDS_CICLO            0\n",
       "TOTAL_PQR_RECLAMACION      0\n",
       "dtype: int64"
      ]
     },
     "execution_count": 50,
     "metadata": {},
     "output_type": "execute_result"
    }
   ],
   "source": [
    "#Dterminar si hay presencia de nulos.\n",
    "\n",
    "df.isna().sum()"
   ]
  },
  {
   "cell_type": "code",
   "execution_count": 52,
   "metadata": {},
   "outputs": [
    {
     "name": "stdout",
     "output_type": "stream",
     "text": [
      "<class 'pandas.core.frame.DataFrame'>\n",
      "RangeIndex: 13 entries, 0 to 12\n",
      "Data columns (total 4 columns):\n",
      " #   Column                   Non-Null Count  Dtype\n",
      "---  ------                   --------------  -----\n",
      " 0   CICLO                    13 non-null     int64\n",
      " 1   TOTAL_FACTURAS_VENCIDAS  13 non-null     int64\n",
      " 2   TOTAL_IDS_CICLO          13 non-null     int64\n",
      " 3   TOTAL_PQR_RECLAMACION    13 non-null     int64\n",
      "dtypes: int64(4)\n",
      "memory usage: 548.0 bytes\n"
     ]
    }
   ],
   "source": [
    "#Información dataset\n",
    "df.info()"
   ]
  },
  {
   "cell_type": "code",
   "execution_count": 10,
   "metadata": {},
   "outputs": [],
   "source": [
    "#CONCLUSIONES: Variable no presenta distribución normal y se ve influida por datos atípicos. Se de debe ajustar consulta para extraer información.\n"
   ]
  },
  {
   "cell_type": "code",
   "execution_count": 54,
   "metadata": {},
   "outputs": [
    {
     "data": {
      "text/plain": [
       "<Axes: xlabel='TOTAL_FACTURAS_VENCIDAS', ylabel='TOTAL_PQR_RECLAMACION'>"
      ]
     },
     "execution_count": 54,
     "metadata": {},
     "output_type": "execute_result"
    },
    {
     "data": {
      "image/png": "[encoded data removed]",
      "text/plain": [
       "<Figure size 640x480 with 1 Axes>"
      ]
     },
     "metadata": {},
     "output_type": "display_data"
    }
   ],
   "source": [
    "#Diagrama de dispersion \n",
    "df.plot.scatter(x='TOTAL_FACTURAS_VENCIDAS',y='TOTAL_PQR_RECLAMACION')"
   ]
  },
  {
   "cell_type": "code",
   "execution_count": 64,
   "metadata": {},
   "outputs": [
    {
     "name": "stdout",
     "output_type": "stream",
     "text": [
      "Coeficiente de correlación de Pearson: -0.33775672137830604\n",
      "Conclusión: Hay una relación negativa moderada. Cuando una variable aumenta, la otra tiende a disminuir, aunque con cierta variabilidad.\n"
     ]
    }
   ],
   "source": [
    "# Calcular el coeficiente de correlación de Pearson entre dos columnas\n",
    "coeficiente_correlacion = df['TOTAL_FACTURAS_VENCIDAS'].corr(df['TOTAL_PQR_RECLAMACION'])\n",
    "\n",
    "# Mostrar el coeficiente de correlación\n",
    "print(f'Coeficiente de correlación de Pearson: {coeficiente_correlacion}')\n",
    "print('Conclusión: Hay una relación negativa moderada. Cuando una variable aumenta, la otra tiende a disminuir, aunque con cierta variabilidad. Se debe modificar enforque del análisis agrupando por ID la cantidad de ciclos y la cantidad de PQR`s de reclamación')"
   ]
  },
  {
   "cell_type": "code",
   "execution_count": null,
   "metadata": {},
   "outputs": [],
   "source": []
  }
 ],
 "metadata": {
  "kernelspec": {
   "display_name": "Python 3 (ipykernel)",
   "language": "python",
   "name": "python3"
  },
  "language_info": {
   "codemirror_mode": {
    "name": "ipython",
    "version": 3
   },
   "file_extension": ".py",
   "mimetype": "text/x-python",
   "name": "python",
   "nbconvert_exporter": "python",
   "pygments_lexer": "ipython3",
   "version": "3.9.6"
  }
 },
 "nbformat": 4,
 "nbformat_minor": 4
}
