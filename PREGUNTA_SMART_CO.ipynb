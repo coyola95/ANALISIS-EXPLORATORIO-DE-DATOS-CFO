{
 "cells": [
  {
   "cell_type": "code",
   "execution_count": null,
   "metadata": {},
   "outputs": [],
   "source": [
    "\n",
    "#PROBLEMÁTICA:  Actualmente la cartera de la organización representa una gran cantidad de ingresos retenidos y requiere fortalecer sus estrategias de cobro para reducir la misma. La empresa actualmente realiza scoring de sus clientes con base en su histórico de cartera.\n",
    "\n",
    "#SOLUCIÓN: La problemática puede ser atacada desde la ciencia de datos al utilizar el histórico de valores en reclamación y el scoring realizado actualmente a sus clientes para predecir el comportamiento de cartera los mismos.\n",
    "\n",
    "\n",
    "#PREGUNTA SMART: \"¿Cómo se puede utilizar histórico de valores en reclamación y el scoring actual basado en el historial de cartera para predecir con un 85% de precisión el número de clientes que incrementarán su deuda en los próximos tres meses, permitiendo así implementar estrategias preventivas antes del final del próximo trimestre?\"\n",
    "\n",
    "#DESGLOSE COMPONENTES PREGUNTA\n",
    "\n",
    "#Específica: Se enfoca en predecir el número de clientes que incrementarán su cartera.\n",
    "#Medible: La precisión deseada es del 85%.\n",
    "#Accionable: Se basa en el scoring actual de la empresa.\n",
    "#Relevancia: Permite implementar estrategias preventivas, cruciales para la gestión de riesgos.\n",
    "#Temporalidad: El objetivo es lograr esta predicción antes del final del próximo trimestre.\n",
    "#Tipo de análisis: predictivo\n",
    "\n"
   ]
  },
  {
   "cell_type": "code",
   "execution_count": null,
   "metadata": {},
   "outputs": [],
   "source": []
  }
 ],
 "metadata": {
  "language_info": {
   "name": "python"
  }
 },
 "nbformat": 4,
 "nbformat_minor": 2
}
