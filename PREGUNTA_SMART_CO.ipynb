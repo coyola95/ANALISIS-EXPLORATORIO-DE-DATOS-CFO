{
 "cells": [
  {
   "cell_type": "code",
   "execution_count": null,
   "metadata": {},
   "outputs": [],
   "source": [
    "\n",
    "#PROBLEMÁTICA:  Actualmente la cartera de la organización representa una gran cantidad de ingresos retenidos y requiere fortalecer sus estrategias de cobro para reducir la misma. La empresa actualmente realiza scoring de sus clientes con base en su histórico de cartera.\n",
    "\n",
    "#SOLUCIÓN: La problemática puede ser atacada desde la ciencia de datos al utilizar el histórico de valores en reclamación y el scoring realizado actualmente a sus clientes para predecir el comportamiento de cartera los mismos.\n",
    "\n",
    "\n",
    "#PREGUNTA SMART: \"¿Cómo se puede utilizar histórico de valores en reclamación y el scoring actual basado en el historial de cartera para predecir con un 85% de precisión el número de clientes que incrementarán su deuda en los próximos tres meses, permitiendo así implementar estrategias preventivas antes del final del próximo trimestre?\"\n",
    "\n",
    "#DESGLOSE COMPONENTES PREGUNTA\n",
    "\n",
    "#Específica: Se enfoca en predecir el número de clientes que incrementarán su cartera.\n",
    "#Medible: La precisión deseada es del 85%.\n",
    "#Accionable: Se basa en el scoring actual de la empresa.\n",
    "#Relevancia: Permite implementar estrategias preventivas, cruciales para la gestión de riesgos.\n",
    "#Temporalidad: El objetivo es lograr esta predicción antes del final del próximo trimestre.\n",
    "#Tipo de análisis: predictivo\n",
    "\n"
   ]
  },
  {
   "cell_type": "code",
   "execution_count": 94,
   "metadata": {},
   "outputs": [],
   "source": [
    "# Importar librería pandas\n",
    "import pandas as pd\n",
    "import matplotlib.pylab as plt\n",
    "\n",
    "# URL del dataset\n",
    "filename = \"/Users/christianoyola/Documents/GENERAL/Christian/UNIVERSIDAD/MAESTRIA/SEMESTRE 1/ANALISIS EXPLORATORIO DE DATOS/ANALISIS-EXPLORATORIO-DE-DATOS-CFO/FACTURAS VENCIDAS.csv\"\n",
    "\n",
    "# Lista de encabezados o nombres de los atributos\n",
    "headers = [\"CICLO\",\"ID\",\"FACTURAS_VENCIDAS\"]\n",
    "\n",
    "# Leer el archivo CSV\n",
    "df = pd.read_csv(filename)\n",
    "\n"
   ]
  },
  {
   "cell_type": "code",
   "execution_count": 92,
   "metadata": {},
   "outputs": [
    {
     "data": {
      "text/html": [
       "<div>\n",
       "<style scoped>\n",
       "    .dataframe tbody tr th:only-of-type {\n",
       "        vertical-align: middle;\n",
       "    }\n",
       "\n",
       "    .dataframe tbody tr th {\n",
       "        vertical-align: top;\n",
       "    }\n",
       "\n",
       "    .dataframe thead th {\n",
       "        text-align: right;\n",
       "    }\n",
       "</style>\n",
       "<table border=\"1\" class=\"dataframe\">\n",
       "  <thead>\n",
       "    <tr style=\"text-align: right;\">\n",
       "      <th></th>\n",
       "      <th>CICLO</th>\n",
       "      <th>CLIENTE_ID</th>\n",
       "      <th>FACTURAS_VENCIDAS</th>\n",
       "    </tr>\n",
       "  </thead>\n",
       "  <tbody>\n",
       "    <tr>\n",
       "      <th>0</th>\n",
       "      <td>202309.0</td>\n",
       "      <td>1060863</td>\n",
       "      <td>1.0</td>\n",
       "    </tr>\n",
       "    <tr>\n",
       "      <th>1</th>\n",
       "      <td>202309.0</td>\n",
       "      <td>1060624</td>\n",
       "      <td>0.0</td>\n",
       "    </tr>\n",
       "    <tr>\n",
       "      <th>2</th>\n",
       "      <td>202309.0</td>\n",
       "      <td>1060656</td>\n",
       "      <td>1.0</td>\n",
       "    </tr>\n",
       "    <tr>\n",
       "      <th>3</th>\n",
       "      <td>202309.0</td>\n",
       "      <td>1020913</td>\n",
       "      <td>0.0</td>\n",
       "    </tr>\n",
       "    <tr>\n",
       "      <th>4</th>\n",
       "      <td>202309.0</td>\n",
       "      <td>1028396</td>\n",
       "      <td>1.0</td>\n",
       "    </tr>\n",
       "  </tbody>\n",
       "</table>\n",
       "</div>"
      ],
      "text/plain": [
       "      CICLO  CLIENTE_ID  FACTURAS_VENCIDAS\n",
       "0  202309.0     1060863                1.0\n",
       "1  202309.0     1060624                0.0\n",
       "2  202309.0     1060656                1.0\n",
       "3  202309.0     1020913                0.0\n",
       "4  202309.0     1028396                1.0"
      ]
     },
     "execution_count": 92,
     "metadata": {},
     "output_type": "execute_result"
    }
   ],
   "source": [
    "# Para ver cómo luce el dataset, utilizamos el método head().\n",
    "df.head(5)\n",
    "\n"
   ]
  },
  {
   "cell_type": "code",
   "execution_count": 60,
   "metadata": {},
   "outputs": [
    {
     "data": {
      "text/plain": [
       "(697931, 3)"
      ]
     },
     "execution_count": 60,
     "metadata": {},
     "output_type": "execute_result"
    }
   ],
   "source": [
    "#Obtener el tamaño del dataset.\n",
    "df.shape"
   ]
  },
  {
   "cell_type": "code",
   "execution_count": 44,
   "metadata": {},
   "outputs": [
    {
     "data": {
      "text/html": [
       "<div>\n",
       "<style scoped>\n",
       "    .dataframe tbody tr th:only-of-type {\n",
       "        vertical-align: middle;\n",
       "    }\n",
       "\n",
       "    .dataframe tbody tr th {\n",
       "        vertical-align: top;\n",
       "    }\n",
       "\n",
       "    .dataframe thead th {\n",
       "        text-align: right;\n",
       "    }\n",
       "</style>\n",
       "<table border=\"1\" class=\"dataframe\">\n",
       "  <thead>\n",
       "    <tr style=\"text-align: right;\">\n",
       "      <th></th>\n",
       "      <th>CICLO</th>\n",
       "      <th>CLIENTE_ID</th>\n",
       "      <th>FACTURAS_VENCIDAS</th>\n",
       "    </tr>\n",
       "  </thead>\n",
       "  <tbody>\n",
       "    <tr>\n",
       "      <th>697926</th>\n",
       "      <td>202404.0</td>\n",
       "      <td>1088668</td>\n",
       "      <td>0.0</td>\n",
       "    </tr>\n",
       "    <tr>\n",
       "      <th>697927</th>\n",
       "      <td>202404.0</td>\n",
       "      <td>1070780</td>\n",
       "      <td>0.0</td>\n",
       "    </tr>\n",
       "    <tr>\n",
       "      <th>697928</th>\n",
       "      <td>202403.0</td>\n",
       "      <td>1078293</td>\n",
       "      <td>0.0</td>\n",
       "    </tr>\n",
       "    <tr>\n",
       "      <th>697929</th>\n",
       "      <td>202405.0</td>\n",
       "      <td>1075932</td>\n",
       "      <td>0.0</td>\n",
       "    </tr>\n",
       "    <tr>\n",
       "      <th>697930</th>\n",
       "      <td>202405.0</td>\n",
       "      <td>1082801</td>\n",
       "      <td>0.0</td>\n",
       "    </tr>\n",
       "  </tbody>\n",
       "</table>\n",
       "</div>"
      ],
      "text/plain": [
       "           CICLO  CLIENTE_ID  FACTURAS_VENCIDAS\n",
       "697926  202404.0     1088668                0.0\n",
       "697927  202404.0     1070780                0.0\n",
       "697928  202403.0     1078293                0.0\n",
       "697929  202405.0     1075932                0.0\n",
       "697930  202405.0     1082801                0.0"
      ]
     },
     "execution_count": 44,
     "metadata": {},
     "output_type": "execute_result"
    }
   ],
   "source": [
    "# Para ver cómo luce el dataset, utilizamos el método tail().\n",
    "df.tail(5)"
   ]
  },
  {
   "cell_type": "code",
   "execution_count": 36,
   "metadata": {},
   "outputs": [
    {
     "data": {
      "text/html": [
       "<div>\n",
       "<style scoped>\n",
       "    .dataframe tbody tr th:only-of-type {\n",
       "        vertical-align: middle;\n",
       "    }\n",
       "\n",
       "    .dataframe tbody tr th {\n",
       "        vertical-align: top;\n",
       "    }\n",
       "\n",
       "    .dataframe thead th {\n",
       "        text-align: right;\n",
       "    }\n",
       "</style>\n",
       "<table border=\"1\" class=\"dataframe\">\n",
       "  <thead>\n",
       "    <tr style=\"text-align: right;\">\n",
       "      <th></th>\n",
       "      <th>CICLO</th>\n",
       "      <th>CLIENTE_ID</th>\n",
       "      <th>FACTURAS_VENCIDAS</th>\n",
       "    </tr>\n",
       "  </thead>\n",
       "  <tbody>\n",
       "    <tr>\n",
       "      <th>count</th>\n",
       "      <td>697931.000000</td>\n",
       "      <td>6.979310e+05</td>\n",
       "      <td>697931.000000</td>\n",
       "    </tr>\n",
       "    <tr>\n",
       "      <th>mean</th>\n",
       "      <td>202347.060327</td>\n",
       "      <td>1.039130e+06</td>\n",
       "      <td>0.582672</td>\n",
       "    </tr>\n",
       "    <tr>\n",
       "      <th>std</th>\n",
       "      <td>48.005074</td>\n",
       "      <td>2.759168e+04</td>\n",
       "      <td>4.722902</td>\n",
       "    </tr>\n",
       "    <tr>\n",
       "      <th>min</th>\n",
       "      <td>202301.000000</td>\n",
       "      <td>1.000001e+06</td>\n",
       "      <td>0.000000</td>\n",
       "    </tr>\n",
       "    <tr>\n",
       "      <th>25%</th>\n",
       "      <td>202306.000000</td>\n",
       "      <td>1.016525e+06</td>\n",
       "      <td>0.000000</td>\n",
       "    </tr>\n",
       "    <tr>\n",
       "      <th>50%</th>\n",
       "      <td>202311.000000</td>\n",
       "      <td>1.027219e+06</td>\n",
       "      <td>0.000000</td>\n",
       "    </tr>\n",
       "    <tr>\n",
       "      <th>75%</th>\n",
       "      <td>202404.000000</td>\n",
       "      <td>1.065269e+06</td>\n",
       "      <td>0.000000</td>\n",
       "    </tr>\n",
       "    <tr>\n",
       "      <th>max</th>\n",
       "      <td>202406.000000</td>\n",
       "      <td>1.089164e+06</td>\n",
       "      <td>93.000000</td>\n",
       "    </tr>\n",
       "  </tbody>\n",
       "</table>\n",
       "</div>"
      ],
      "text/plain": [
       "               CICLO    CLIENTE_ID  FACTURAS_VENCIDAS\n",
       "count  697931.000000  6.979310e+05      697931.000000\n",
       "mean   202347.060327  1.039130e+06           0.582672\n",
       "std        48.005074  2.759168e+04           4.722902\n",
       "min    202301.000000  1.000001e+06           0.000000\n",
       "25%    202306.000000  1.016525e+06           0.000000\n",
       "50%    202311.000000  1.027219e+06           0.000000\n",
       "75%    202404.000000  1.065269e+06           0.000000\n",
       "max    202406.000000  1.089164e+06          93.000000"
      ]
     },
     "execution_count": 36,
     "metadata": {},
     "output_type": "execute_result"
    }
   ],
   "source": [
    "# Para ver una descripcion general utilizamos el método df.describe().\n",
    "df.describe()"
   ]
  },
  {
   "cell_type": "code",
   "execution_count": 42,
   "metadata": {},
   "outputs": [
    {
     "data": {
      "image/png": "[encoded data removed]",
      "text/plain": [
       "<Figure size 1000x1000 with 1 Axes>"
      ]
     },
     "metadata": {},
     "output_type": "display_data"
    }
   ],
   "source": [
    "# Crear el diagrama de caja y bigotes\n",
    "plt.figure(figsize=(10, 10))\n",
    "plt.boxplot(df.FACTURAS_VENCIDAS)\n",
    "\n",
    "# Añadir etiquetas y título\n",
    "plt.title('Diagrama de Caja y Bigotes')\n",
    "plt.xlabel('FACTURAS VENCIDAS')\n",
    "plt.ylabel('VLRS')\n",
    "\n",
    "# Mostrar el diagrama\n",
    "plt.show()"
   ]
  },
  {
   "cell_type": "code",
   "execution_count": 84,
   "metadata": {},
   "outputs": [
    {
     "data": {
      "text/plain": [
       "<Axes: ylabel='Frequency'>"
      ]
     },
     "execution_count": 84,
     "metadata": {},
     "output_type": "execute_result"
    },
    {
     "data": {
      "image/png": "[encoded data removed]",
      "text/plain": [
       "<Figure size 640x480 with 1 Axes>"
      ]
     },
     "metadata": {},
     "output_type": "display_data"
    }
   ],
   "source": [
    "# HISTOGRAMA\n",
    "df.FACTURAS_VENCIDAS.plot.hist()"
   ]
  },
  {
   "cell_type": "code",
   "execution_count": 98,
   "metadata": {},
   "outputs": [
    {
     "data": {
      "text/plain": [
       "FACTURAS_VENCIDAS\n",
       "0.0     625248\n",
       "1.0      52470\n",
       "2.0       5395\n",
       "3.0       2051\n",
       "4.0       1430\n",
       "         ...  \n",
       "90.0         1\n",
       "86.0         1\n",
       "88.0         1\n",
       "92.0         1\n",
       "89.0         1\n",
       "Name: count, Length: 94, dtype: int64"
      ]
     },
     "execution_count": 98,
     "metadata": {},
     "output_type": "execute_result"
    }
   ],
   "source": [
    "#Frecuencia de valores\n",
    "\n",
    "df.FACTURAS_VENCIDAS.value_counts()"
   ]
  },
  {
   "cell_type": "code",
   "execution_count": 100,
   "metadata": {},
   "outputs": [
    {
     "data": {
      "text/plain": [
       "CICLO                float64\n",
       "CLIENTE_ID             int64\n",
       "FACTURAS_VENCIDAS    float64\n",
       "dtype: object"
      ]
     },
     "execution_count": 100,
     "metadata": {},
     "output_type": "execute_result"
    }
   ],
   "source": [
    "#Tipos de datos\n",
    "\n",
    "df.dtypes"
   ]
  },
  {
   "cell_type": "code",
   "execution_count": 118,
   "metadata": {},
   "outputs": [
    {
     "data": {
      "text/html": [
       "<div>\n",
       "<style scoped>\n",
       "    .dataframe tbody tr th:only-of-type {\n",
       "        vertical-align: middle;\n",
       "    }\n",
       "\n",
       "    .dataframe tbody tr th {\n",
       "        vertical-align: top;\n",
       "    }\n",
       "\n",
       "    .dataframe thead th {\n",
       "        text-align: right;\n",
       "    }\n",
       "</style>\n",
       "<table border=\"1\" class=\"dataframe\">\n",
       "  <thead>\n",
       "    <tr style=\"text-align: right;\">\n",
       "      <th></th>\n",
       "      <th>CICLO</th>\n",
       "      <th>CLIENTE_ID</th>\n",
       "      <th>FACTURAS_VENCIDAS</th>\n",
       "    </tr>\n",
       "  </thead>\n",
       "  <tbody>\n",
       "    <tr>\n",
       "      <th>419811</th>\n",
       "      <td>202405.0</td>\n",
       "      <td>1009681</td>\n",
       "      <td>93.0</td>\n",
       "    </tr>\n",
       "    <tr>\n",
       "      <th>619764</th>\n",
       "      <td>202406.0</td>\n",
       "      <td>1009681</td>\n",
       "      <td>93.0</td>\n",
       "    </tr>\n",
       "    <tr>\n",
       "      <th>358164</th>\n",
       "      <td>202404.0</td>\n",
       "      <td>1009681</td>\n",
       "      <td>92.0</td>\n",
       "    </tr>\n",
       "    <tr>\n",
       "      <th>587984</th>\n",
       "      <td>202404.0</td>\n",
       "      <td>1009681</td>\n",
       "      <td>91.0</td>\n",
       "    </tr>\n",
       "    <tr>\n",
       "      <th>607625</th>\n",
       "      <td>202403.0</td>\n",
       "      <td>1009681</td>\n",
       "      <td>91.0</td>\n",
       "    </tr>\n",
       "    <tr>\n",
       "      <th>38543</th>\n",
       "      <td>202402.0</td>\n",
       "      <td>1009681</td>\n",
       "      <td>90.0</td>\n",
       "    </tr>\n",
       "    <tr>\n",
       "      <th>506979</th>\n",
       "      <td>202401.0</td>\n",
       "      <td>1009681</td>\n",
       "      <td>89.0</td>\n",
       "    </tr>\n",
       "    <tr>\n",
       "      <th>319082</th>\n",
       "      <td>202312.0</td>\n",
       "      <td>1009681</td>\n",
       "      <td>88.0</td>\n",
       "    </tr>\n",
       "    <tr>\n",
       "      <th>207317</th>\n",
       "      <td>202311.0</td>\n",
       "      <td>1009681</td>\n",
       "      <td>87.0</td>\n",
       "    </tr>\n",
       "    <tr>\n",
       "      <th>86830</th>\n",
       "      <td>202310.0</td>\n",
       "      <td>1009681</td>\n",
       "      <td>86.0</td>\n",
       "    </tr>\n",
       "  </tbody>\n",
       "</table>\n",
       "</div>"
      ],
      "text/plain": [
       "           CICLO  CLIENTE_ID  FACTURAS_VENCIDAS\n",
       "419811  202405.0     1009681               93.0\n",
       "619764  202406.0     1009681               93.0\n",
       "358164  202404.0     1009681               92.0\n",
       "587984  202404.0     1009681               91.0\n",
       "607625  202403.0     1009681               91.0\n",
       "38543   202402.0     1009681               90.0\n",
       "506979  202401.0     1009681               89.0\n",
       "319082  202312.0     1009681               88.0\n",
       "207317  202311.0     1009681               87.0\n",
       "86830   202310.0     1009681               86.0"
      ]
     },
     "execution_count": 118,
     "metadata": {},
     "output_type": "execute_result"
    }
   ],
   "source": [
    "df.nlargest(10,'FACTURAS_VENCIDAS')\n"
   ]
  },
  {
   "cell_type": "code",
   "execution_count": 120,
   "metadata": {},
   "outputs": [
    {
     "data": {
      "text/html": [
       "<div>\n",
       "<style scoped>\n",
       "    .dataframe tbody tr th:only-of-type {\n",
       "        vertical-align: middle;\n",
       "    }\n",
       "\n",
       "    .dataframe tbody tr th {\n",
       "        vertical-align: top;\n",
       "    }\n",
       "\n",
       "    .dataframe thead th {\n",
       "        text-align: right;\n",
       "    }\n",
       "</style>\n",
       "<table border=\"1\" class=\"dataframe\">\n",
       "  <thead>\n",
       "    <tr style=\"text-align: right;\">\n",
       "      <th></th>\n",
       "      <th>CICLO</th>\n",
       "      <th>CLIENTE_ID</th>\n",
       "      <th>FACTURAS_VENCIDAS</th>\n",
       "    </tr>\n",
       "  </thead>\n",
       "  <tbody>\n",
       "    <tr>\n",
       "      <th>1</th>\n",
       "      <td>202309.0</td>\n",
       "      <td>1060624</td>\n",
       "      <td>0.0</td>\n",
       "    </tr>\n",
       "    <tr>\n",
       "      <th>3</th>\n",
       "      <td>202309.0</td>\n",
       "      <td>1020913</td>\n",
       "      <td>0.0</td>\n",
       "    </tr>\n",
       "    <tr>\n",
       "      <th>8</th>\n",
       "      <td>202309.0</td>\n",
       "      <td>1000518</td>\n",
       "      <td>0.0</td>\n",
       "    </tr>\n",
       "    <tr>\n",
       "      <th>10</th>\n",
       "      <td>202309.0</td>\n",
       "      <td>1031339</td>\n",
       "      <td>0.0</td>\n",
       "    </tr>\n",
       "    <tr>\n",
       "      <th>11</th>\n",
       "      <td>202309.0</td>\n",
       "      <td>1031732</td>\n",
       "      <td>0.0</td>\n",
       "    </tr>\n",
       "    <tr>\n",
       "      <th>21</th>\n",
       "      <td>202309.0</td>\n",
       "      <td>1064862</td>\n",
       "      <td>0.0</td>\n",
       "    </tr>\n",
       "    <tr>\n",
       "      <th>38</th>\n",
       "      <td>202309.0</td>\n",
       "      <td>1064407</td>\n",
       "      <td>0.0</td>\n",
       "    </tr>\n",
       "    <tr>\n",
       "      <th>49</th>\n",
       "      <td>202309.0</td>\n",
       "      <td>1063870</td>\n",
       "      <td>0.0</td>\n",
       "    </tr>\n",
       "    <tr>\n",
       "      <th>64</th>\n",
       "      <td>202309.0</td>\n",
       "      <td>1027894</td>\n",
       "      <td>0.0</td>\n",
       "    </tr>\n",
       "    <tr>\n",
       "      <th>67</th>\n",
       "      <td>202309.0</td>\n",
       "      <td>1031108</td>\n",
       "      <td>0.0</td>\n",
       "    </tr>\n",
       "  </tbody>\n",
       "</table>\n",
       "</div>"
      ],
      "text/plain": [
       "       CICLO  CLIENTE_ID  FACTURAS_VENCIDAS\n",
       "1   202309.0     1060624                0.0\n",
       "3   202309.0     1020913                0.0\n",
       "8   202309.0     1000518                0.0\n",
       "10  202309.0     1031339                0.0\n",
       "11  202309.0     1031732                0.0\n",
       "21  202309.0     1064862                0.0\n",
       "38  202309.0     1064407                0.0\n",
       "49  202309.0     1063870                0.0\n",
       "64  202309.0     1027894                0.0\n",
       "67  202309.0     1031108                0.0"
      ]
     },
     "execution_count": 120,
     "metadata": {},
     "output_type": "execute_result"
    }
   ],
   "source": [
    "df.nsmallest(10,'FACTURAS_VENCIDAS')"
   ]
  },
  {
   "cell_type": "code",
   "execution_count": null,
   "metadata": {},
   "outputs": [],
   "source": []
  }
 ],
 "metadata": {
  "kernelspec": {
   "display_name": "Python 3 (ipykernel)",
   "language": "python",
   "name": "python3"
  },
  "language_info": {
   "codemirror_mode": {
    "name": "ipython",
    "version": 3
   },
   "file_extension": ".py",
   "mimetype": "text/x-python",
   "name": "python",
   "nbconvert_exporter": "python",
   "pygments_lexer": "ipython3",
   "version": "3.12.4"
  }
 },
 "nbformat": 4,
 "nbformat_minor": 4
}
